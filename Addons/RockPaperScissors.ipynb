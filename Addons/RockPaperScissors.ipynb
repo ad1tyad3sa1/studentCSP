{
 "cells": [
  {
   "cell_type": "code",
   "execution_count": 3,
   "metadata": {},
   "outputs": [
    {
     "name": "stdout",
     "output_type": "stream",
     "text": [
      "Let's play Rock, Paper, Scissors!\n",
      "You chose rock, and the computer chose paper.\n",
      "Computer wins!\n",
      "Thanks for playing!\n"
     ]
    }
   ],
   "source": [
    "import random\n",
    "#This allows for the computer to be able to randomly select \n",
    "\n",
    "def get_user_choice():\n",
    "    user_choice = input(\"Enter your choice (rock/paper/scissors): \").lower()\n",
    "    while user_choice not in ['rock', 'paper', 'scissors']:\n",
    "        user_choice = input(\"Invalid choice. Please enter rock, paper, or scissors: \").lower()\n",
    "    return user_choice\n",
    "\n",
    "def get_computer_choice():\n",
    "    choices = ['rock', 'paper', 'scissors']\n",
    "    return random.choice(choices)\n",
    "\n",
    "def determine_winner(user_choice, computer_choice):\n",
    "    if user_choice == computer_choice:\n",
    "        return \"It's a tie!\"\n",
    "    elif (user_choice == 'rock' and computer_choice == 'scissors') or \\\n",
    "         (user_choice == 'paper' and computer_choice == 'rock') or \\\n",
    "         (user_choice == 'scissors' and computer_choice == 'paper'):\n",
    "        return \"You win!\"\n",
    "    else:\n",
    "        return \"Computer wins!\"\n",
    "\n",
    "def play_again():\n",
    "    return input(\"Do you want to play again? (yes/no): \").lower() == 'yes'\n",
    "\n",
    "print(\"Let's play Rock, Paper, Scissors!\")\n",
    "\n",
    "while True:\n",
    "    user_choice = get_user_choice()\n",
    "    computer_choice = get_computer_choice()\n",
    "    \n",
    "    print(f\"You chose {user_choice}, and the computer chose {computer_choice}.\")\n",
    "    \n",
    "    result = determine_winner(user_choice, computer_choice)\n",
    "    print(result)\n",
    "    \n",
    "    if not play_again():\n",
    "        print(\"Thanks for playing!\")\n",
    "        break"
   ]
  }
 ],
 "metadata": {
  "kernelspec": {
   "display_name": "Python 3",
   "language": "python",
   "name": "python3"
  },
  "language_info": {
   "codemirror_mode": {
    "name": "ipython",
    "version": 3
   },
   "file_extension": ".py",
   "mimetype": "text/x-python",
   "name": "python",
   "nbconvert_exporter": "python",
   "pygments_lexer": "ipython3",
   "version": "3.10.12"
  },
  "orig_nbformat": 4
 },
 "nbformat": 4,
 "nbformat_minor": 2
}
