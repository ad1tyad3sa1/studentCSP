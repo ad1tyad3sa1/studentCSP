{
 "cells": [
  {
   "cell_type": "markdown",
   "metadata": {},
   "source": [
    "---\n",
    "toc: true\n",
    "comments: false\n",
    "layout: post\n",
    "title: AlgorithmsHW\n",
    "description: Team SRSC \n",
    "type: hacks\n",
    "courses: { csp: {week: 7} }\n",
    "---"
   ]
  },
  {
   "cell_type": "markdown",
   "metadata": {},
   "source": [
    "# ALGORITHMS "
   ]
  },
  {
   "cell_type": "markdown",
   "metadata": {},
   "source": [
    "# <mark> HOMEWORK \n",
    "## CREATE TEXT (string) ANALYZER: <br>\n",
    "### criteria: <br>\n",
    "1. Accepts input from user <br>\n",
    "2. Counts total letters, numbers, spaces in a string <br>\n",
    "3. Counts number of vowels <br>\n",
    "4. Calculates average word length <br>\n",
    "5. Correctly displays: total # of characters (including spaces + numbers), total vowels, average word length <br>\n",
    "### other criteria: <br>\n",
    "1. ensure that program handles upper and lowercase spelling <br>\n",
    "2. Test multiple inputs to ensure accuracy \n",
    "### Criteria for above 90%: <br>\n",
    "1. Add a unique program, function, or feature not specified by criterias\n"
   ]
  },
  {
   "cell_type": "code",
   "execution_count": 2,
   "metadata": {},
   "outputs": [
    {
     "name": "stdout",
     "output_type": "stream",
     "text": [
      "You entered: How much wood could a woodchuck chuck if a woodchuck could chuck wood?\n",
      "\n",
      "Total # of characters (including spaces + numbers): 69\n",
      "Total vowels: 21\n",
      "Average word length: 4.461538461538462\n",
      "\n",
      "Most Common Words:\n",
      "could: 2 times\n",
      "a: 2 times\n",
      "woodchuck: 2 times\n",
      "chuck: 2 times\n",
      "how: 1 times\n"
     ]
    }
   ],
   "source": [
    "def text_analyzer():\n",
    "    # Accept input from the user\n",
    "    text = input(\"Enter a string: \")\n",
    "\n",
    "    # Print the user's input for reference\n",
    "    print(\"You entered:\", text)\n",
    "\n",
    "    # Convert the input text to lowercase to handle case insensitivity\n",
    "    text = text.lower()\n",
    "\n",
    "    # Count total letters, numbers, and spaces in the string\n",
    "    total_letters = sum(c.isalpha() for c in text)\n",
    "    total_numbers = sum(c.isdigit() for c in text)\n",
    "    total_spaces = sum(c.isspace() for c in text)\n",
    "\n",
    "    # Count the number of vowels (a, e, i, o, u)\n",
    "    vowels = sum(c in 'aeiou' for c in text)\n",
    "\n",
    "    # Split the text into words and calculate the average word length\n",
    "    words = text.split()\n",
    "    if len(words) > 0:\n",
    "        average_word_length = sum(len(word) for word in words) / len(words)\n",
    "    else:\n",
    "        average_word_length = 0\n",
    "\n",
    "    # Calculate the total number of characters, including spaces and numbers\n",
    "    total_characters = total_letters + total_spaces + total_numbers\n",
    "\n",
    "    # Display the results\n",
    "    print(\"\\nTotal # of characters (including spaces + numbers):\", total_characters)\n",
    "    print(\"Total vowels:\", vowels)\n",
    "    print(\"Average word length:\", average_word_length)\n",
    "\n",
    "    # Word Frequency Analysis\n",
    "    word_freq = {}\n",
    "    for word in words:\n",
    "        if word in word_freq:\n",
    "            word_freq[word] += 1\n",
    "        else:\n",
    "            word_freq[word] = 1\n",
    "\n",
    "    # Display the most common words\n",
    "    print(\"\\nMost Common Words:\")\n",
    "    sorted_word_freq = sorted(word_freq.items(), key=lambda x: x[1], reverse=True)\n",
    "    for word, frequency in sorted_word_freq[:5]:\n",
    "        print(f\"{word}: {frequency} times\")\n",
    "\n",
    "# Call the function to start the text analysis\n",
    "text_analyzer()"
   ]
  }
 ],
 "metadata": {
  "kernelspec": {
   "display_name": "Python 3 (ipykernel)",
   "language": "python",
   "name": "python3"
  },
  "language_info": {
   "codemirror_mode": {
    "name": "ipython",
    "version": 3
   },
   "file_extension": ".py",
   "mimetype": "text/x-python",
   "name": "python",
   "nbconvert_exporter": "python",
   "pygments_lexer": "ipython3",
   "version": "3.10.12"
  }
 },
 "nbformat": 4,
 "nbformat_minor": 2
}
