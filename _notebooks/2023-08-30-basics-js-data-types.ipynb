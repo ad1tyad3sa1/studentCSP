{
 "cells": [
  {
   "cell_type": "raw",
   "metadata": {},
   "source": [
    "---\n",
    "title: Javascript Data Types/Lists\n",
    "hide: True\n",
    "description: Javascript application with datatypes\n",
    "type: ccc\n",
    "permalink: /basics/datatypes\n",
    "---"
   ]
  },
  {
   "cell_type": "code",
   "execution_count": 12,
   "metadata": {
    "vscode": {
     "languageId": "javascript"
    }
   },
   "outputs": [
    {
     "data": {
      "application/javascript": "\nvar me = {\n    name: \"Aditya Desai\",\n    age: 15,\n    classes: [\"Computer Science Principles\", \"Honors Humanities\", \"Chemistry\", \"Calculus\", \"Physics\"],\n    interests: [\"Sports\", \"Hiking\", \"Reading\"],\n    places: [\"USA\", \"India\", \"Europe\"],\n    cuisine: [\"Indian\", \"Mexican\", \"Italian\"]\n};\n\nconsole.log(me);\n\nme.classes.push(\"Robotics\");\nconsole.log(me.classes);\nme.interests.push(\"Traveling\");\nconsole.log(me.interests);\nme.places.shift();\nconsole.log(me.places);\nme.cuisine.pop();\nconsole.log(me.cuisine);\n\nconsole.log(me)\n\nme.age = me.age+1;\n\nconsole.log(\"On my next birthday my age will be\", me.age);\n\nconsole.log(\"Type of name is \", typeof me.name);\nconsole.log(\"Type of age is \", typeof me.age);\nconsole.log(\"Type of classes is \", typeof me.classes);\n",
      "text/plain": [
       "<IPython.core.display.Javascript object>"
      ]
     },
     "metadata": {},
     "output_type": "display_data"
    }
   ],
   "source": [
    "%%js\n",
    "\n",
    "var me = {\n",
    "    name: \"Aditya Desai\",\n",
    "    age: 15,\n",
    "    classes: [\"Computer Science Principles\", \"Honors Humanities\", \"Chemistry\", \"Calculus\", \"Physics\"],\n",
    "    interests: [\"Sports\", \"Hiking\", \"Reading\"],\n",
    "    places: [\"USA\", \"India\", \"Europe\"],\n",
    "    cuisine: [\"Indian\", \"Mexican\", \"Italian\"]\n",
    "};\n",
    "\n",
    "console.log(me);\n",
    "\n",
    "me.classes.push(\"Robotics\");\n",
    "console.log(me.classes);\n",
    "me.interests.push(\"Traveling\");\n",
    "console.log(me.interests);\n",
    "me.places.shift();\n",
    "console.log(me.places);\n",
    "me.cuisine.pop();\n",
    "console.log(me.cuisine);\n",
    "\n",
    "console.log(me)\n",
    "\n",
    "me.age = me.age+1;\n",
    "\n",
    "console.log(\"On my next birthday my age will be\", me.age);\n",
    "\n",
    "console.log(\"Type of name is \", typeof me.name);\n",
    "console.log(\"Type of age is \", typeof me.age);\n",
    "console.log(\"Type of classes is \", typeof me.classes);\n"
   ]
  }
 ],
 "metadata": {
  "kernelspec": {
   "display_name": "Python 3 (ipykernel)",
   "language": "python",
   "name": "python3"
  },
  "language_info": {
   "codemirror_mode": {
    "name": "ipython",
    "version": 3
   },
   "file_extension": ".py",
   "mimetype": "text/x-python",
   "name": "python",
   "nbconvert_exporter": "python",
   "pygments_lexer": "ipython3",
   "version": "3.10.12"
  }
 },
 "nbformat": 4,
 "nbformat_minor": 4
}
