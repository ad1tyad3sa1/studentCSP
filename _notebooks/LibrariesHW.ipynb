{
 "cells": [
  {
   "cell_type": "markdown",
   "metadata": {},
   "source": [
    "---\n",
    "toc: true\n",
    "comments: true\n",
    "layout: post\n",
    "title: Student Lesson Python Libraries\n",
    "description: To teach the class how to use public Python libraries around the internet\n",
    "type: hacks\n",
    "courses: { csp: {week: 10} }\n",
    "---"
   ]
  },
  {
   "cell_type": "markdown",
   "metadata": {},
   "source": [
    "### What is a Library?\n",
    "Essentially a list of pre-written code that you can use to streamline and clean up your program.\n",
    "\n",
    "Libraries can help simplify complex programs\n",
    "\n",
    "APIS are specifications for how the procedures in a library behave, and how they can be used \n",
    "\n",
    "Documentations for an API/library is necessary in understanding the behaviors provided by the API/library and how to use them\n",
    "\n",
    "Libraries that we will go over: Requests, Pillow, Pandas, Numpy, Scikit-Learn, TensorFlow, matplotlib.\n"
   ]
  },
  {
   "cell_type": "markdown",
   "metadata": {},
   "source": [
    "### Required Installations\n",
    "Please run the following commands in your vscode terminal in order to continue the lesson\n",
    "- pip install numpy\n",
    "- pip install matplotlib\n",
    "- pip install scikit-learn\n",
    "- pip install pillow\n",
    "- pip install pandas\n",
    "- pip install tensorflow\n",
    "- pip install requests"
   ]
  },
  {
   "cell_type": "markdown",
   "metadata": {},
   "source": [
    "### Images using requests and pillow libraries\n",
    "'Requests' is focused on handling HTTP requests and web data while 'Pillow' is designed for data manipulation and analysis\n",
    "It's common to see them used together in data-related assignments where data is fetched by HTTP requests using Requests and then processed and analyzed with Pandas.\n",
    "\n",
    "Here's an example:"
   ]
  },
  {
   "cell_type": "code",
   "execution_count": null,
   "metadata": {},
   "outputs": [],
   "source": [
    "import requests\n",
    "from PIL import Image\n",
    "from io import BytesIO\n",
    "\n",
    "# Step 1: Download an image using Requests\n",
    "image_url = \"https://example.com/path/to/your/image.jpg\"  # Replace with the actual URL of the image you want to download\n",
    "response = requests.get(image_url)\n",
    "\n",
    "if response.status_code == 200:\n",
    "    # Step 2: Process the downloaded image using Pillow\n",
    "    image_data = BytesIO(response.content)  # Create an in-memory binary stream from the response content\n",
    "    img = Image.open(image_data)  # Open the image using Pillow\n",
    "\n",
    "    # Perform image processing tasks here, like resizing or applying filters\n",
    "    img = img.resize((x, y))  # Resize the image and replace x,y with desired amounts\n",
    "\n",
    "    # Step 3: Save the processed image using Pillow\n",
    "    img.save(\"processed_image.jpg\")  # Save the processed image to a file\n",
    "\n",
    "    print(\"Image downloaded, processed, and saved.\")\n",
    "else:\n",
    "    print(f\"Failed to download image. Status code: {response.status_code}\")\n"
   ]
  },
  {
   "cell_type": "markdown",
   "metadata": {},
   "source": [
    "In this code, we use the Requests library to download an image from a URL and then if the download is successful the HTTP status code 200 will pop up, and from there we create an in-memory binary stream (BytesIO) from the response content. We then use the Pillow library to open the image, make any necessary changes, and save the processed image to a file.\n",
    "\n",
    "Here's a step by step tutorial on how we wrote this code: \n",
    "1)We started by importing the necessary libraries, which were Requests, Pillow, and io.\n",
    "\n",
    "2)Download the Image\n",
    "\n",
    "3)Use the Requests library to send an HTTP GET request to the URL to download the image.\n",
    "Check the response status code to make sure the download goes through(status code 200).\n",
    "\n",
    "4)If the download is successful, create an in-memory binary stream (BytesIO) from the response content.\n",
    "Process the Image:\n",
    "\n",
    "5)Utilize the Pillow library to open the image from the binary stream.\n",
    "Change photo to desired preference(ie: size)\n",
    "Save the Processed Image:\n",
    "\n",
    "6)Save the processed image to a file using Pillow. Choose a filename and file format for the saved image.\n",
    "\n",
    "\n"
   ]
  },
  {
   "cell_type": "markdown",
   "metadata": {},
   "source": [
    "### Hack 1"
   ]
  },
  {
   "cell_type": "markdown",
   "metadata": {},
   "source": [
    "Write a Python code that accomplishes the following tasks:\n",
    "\n",
    "Downloads an image from a specified URL using the Requests library.\n",
    "Processes the downloaded image (like resizing) using the Pillow library.\n",
    "Save the processed image to a file.\n"
   ]
  },
  {
   "cell_type": "code",
   "execution_count": 24,
   "metadata": {},
   "outputs": [
    {
     "name": "stdout",
     "output_type": "stream",
     "text": [
      "Random image downloaded, processed, and saved.\n"
     ]
    }
   ],
   "source": [
    "import requests\n",
    "from PIL import Image\n",
    "from io import BytesIO\n",
    "\n",
    "# Step 1: Download a random image using Requests\n",
    "image_url = \"https://source.unsplash.com/random\"  # Use a source that provides random images\n",
    "response = requests.get(image_url)\n",
    "\n",
    "if response.status_code == 200:\n",
    "    # Step 2: Process the downloaded image using Pillow\n",
    "    image_data = BytesIO(response.content)  # Create an in-memory binary stream from the response content\n",
    "    img = Image.open(image_data)  # Open the image using Pillow\n",
    "\n",
    "    # Perform image processing tasks here, like resizing or applying filters\n",
    "    img = img.resize((200, 400))  # Resize the image and replace with desired dimensions\n",
    "\n",
    "    img.save(\"processed_image.jpg\")  # Save the processed image to a file\n",
    "\n",
    "    print(\"Random image downloaded, processed, and saved.\")\n",
    "else:\n",
    "    print(f\"Failed to download image. Status code: {response.status_code}\")"
   ]
  },
  {
   "cell_type": "markdown",
   "metadata": {},
   "source": [
    "### Math Operations With Python Libraries\n",
    "Numpy(Numerical Python) is used for numerical and scientific computing. It provides tools for handling large sets of numbers, such as data tables and arrays. Numpy makes it easier and more efficient to do mathematical tasks. \n",
    "\n",
    "The Matplotlib library lets you create a visual representation of your data (graphs, charts, and etc.)"
   ]
  },
  {
   "cell_type": "markdown",
   "metadata": {},
   "source": [
    "### Example Sine Graph\n",
    "Uses numpy and matplotlib libaries"
   ]
  },
  {
   "cell_type": "code",
   "execution_count": 25,
   "metadata": {},
   "outputs": [
    {
     "data": {
      "image/png": "[encoded data removed]",
      "text/plain": [
       "<Figure size 432x288 with 1 Axes>"
      ]
     },
     "metadata": {
      "needs_background": "light"
     },
     "output_type": "display_data"
    }
   ],
   "source": [
    "import numpy as np\n",
    "import matplotlib.pyplot as plt\n",
    "\n",
    "# Generate sample data with NumPy\n",
    "x = np.linspace(0, 2 * np.pi, 100) \n",
    "# Create an array of values from 0 to 2*pi\n",
    "# 100 is included to have 100 points distributed between 0 and 2π to make graph smoother\n",
    "y = np.sin(x)\n",
    "# Compute the sine of each value\n",
    "\n",
    "# Create a simple line plot using Matplotlib\n",
    "plt.plot(x, y, label='Sine Function', color='blue', linestyle='-')  # Create the plot\n",
    "plt.title('Sine Function')  # Set the title\n",
    "plt.xlabel('x')  # Label for the x-axis\n",
    "plt.ylabel('sin(x)')  # Label for the y-axis\n",
    "plt.grid(True)  # Display a grid\n",
    "plt.legend()  # Show the legend\n",
    "plt.show()  # Display the plot\n"
   ]
  },
  {
   "cell_type": "markdown",
   "metadata": {},
   "source": [
    "### Hack 2\n",
    "Using the data from the numpy library, create a visual graph using different matplotlib functions."
   ]
  },
  {
   "cell_type": "code",
   "execution_count": 27,
   "metadata": {},
   "outputs": [
    {
     "data": {
      "image/png": "[encoded data removed]",
      "text/plain": [
       "<Figure size 432x288 with 1 Axes>"
      ]
     },
     "metadata": {
      "needs_background": "light"
     },
     "output_type": "display_data"
    }
   ],
   "source": [
    "import numpy as np\n",
    "import matplotlib.pyplot as plt\n",
    "\n",
    "# Generate data for the line\n",
    "x = np.linspace(0, 10, 50)  # Create an array of values from 0 to 10\n",
    "y1 = 2 * x + 1  # Set of data points for the line\n",
    "\n",
    "# Create and display a plot using Matplotlib\n",
    "plt.plot(x, y1, label='Linear Graph', color='red', linestyle='-')  # Create the plot\n",
    "plt.title('Line')  # Set the title\n",
    "plt.xlabel('x')  # Label for the x-axis\n",
    "plt.ylabel('2x + 1')  # Label for the y-axis\n",
    "plt.grid(True)  # Display a grid\n",
    "plt.legend()  # Show the legend\n",
    "plt.show()  # Display the plot"
   ]
  },
  {
   "cell_type": "markdown",
   "metadata": {},
   "source": [
    "Tensor Flow is used in deep learning and neural networks, while scikit-learn is used for typical machine learning tasks. When used together, they can tackle machine learning projects. In the code below, Tensor Flow is used for model creation and training. Scikit-learn is used for data-processing and model evaluation."
   ]
  },
  {
   "cell_type": "markdown",
   "metadata": {},
   "source": [
    "## Pip install tensorflow scikit-learn"
   ]
  },
  {
   "cell_type": "code",
   "execution_count": null,
   "metadata": {},
   "outputs": [
    {
     "name": "stdout",
     "output_type": "stream",
     "text": [
      "Epoch 1/100\n"
     ]
    },
    {
     "name": "stdout",
     "output_type": "stream",
     "text": [
      "3/3 - 0s - loss: 4.8368 - 175ms/epoch - 58ms/step\n",
      "Epoch 2/100\n",
      "3/3 - 0s - loss: 4.8196 - 5ms/epoch - 2ms/step\n",
      "Epoch 3/100\n",
      "3/3 - 0s - loss: 4.8022 - 5ms/epoch - 2ms/step\n",
      "Epoch 4/100\n",
      "3/3 - 0s - loss: 4.7843 - 5ms/epoch - 2ms/step\n",
      "Epoch 5/100\n",
      "3/3 - 0s - loss: 4.7666 - 5ms/epoch - 2ms/step\n",
      "Epoch 6/100\n",
      "3/3 - 0s - loss: 4.7493 - 5ms/epoch - 2ms/step\n",
      "Epoch 7/100\n",
      "3/3 - 0s - loss: 4.7312 - 4ms/epoch - 1ms/step\n",
      "Epoch 8/100\n",
      "3/3 - 0s - loss: 4.7149 - 6ms/epoch - 2ms/step\n",
      "Epoch 9/100\n",
      "3/3 - 0s - loss: 4.6971 - 4ms/epoch - 1ms/step\n",
      "Epoch 10/100\n",
      "3/3 - 0s - loss: 4.6794 - 4ms/epoch - 1ms/step\n",
      "Epoch 11/100\n",
      "3/3 - 0s - loss: 4.6624 - 5ms/epoch - 2ms/step\n",
      "Epoch 12/100\n",
      "3/3 - 0s - loss: 4.6462 - 5ms/epoch - 2ms/step\n",
      "Epoch 13/100\n",
      "3/3 - 0s - loss: 4.6289 - 4ms/epoch - 1ms/step\n",
      "Epoch 14/100\n",
      "3/3 - 0s - loss: 4.6123 - 5ms/epoch - 2ms/step\n",
      "Epoch 15/100\n",
      "3/3 - 0s - loss: 4.5950 - 4ms/epoch - 1ms/step\n",
      "Epoch 16/100\n",
      "3/3 - 0s - loss: 4.5777 - 5ms/epoch - 2ms/step\n",
      "Epoch 17/100\n",
      "3/3 - 0s - loss: 4.5608 - 4ms/epoch - 1ms/step\n",
      "Epoch 18/100\n",
      "3/3 - 0s - loss: 4.5446 - 5ms/epoch - 2ms/step\n",
      "Epoch 19/100\n",
      "3/3 - 0s - loss: 4.5278 - 5ms/epoch - 2ms/step\n",
      "Epoch 20/100\n",
      "3/3 - 0s - loss: 4.5111 - 5ms/epoch - 2ms/step\n",
      "Epoch 21/100\n",
      "3/3 - 0s - loss: 4.4943 - 4ms/epoch - 1ms/step\n",
      "Epoch 22/100\n",
      "3/3 - 0s - loss: 4.4772 - 6ms/epoch - 2ms/step\n",
      "Epoch 23/100\n",
      "3/3 - 0s - loss: 4.4617 - 4ms/epoch - 1ms/step\n",
      "Epoch 24/100\n",
      "3/3 - 0s - loss: 4.4444 - 5ms/epoch - 2ms/step\n",
      "Epoch 25/100\n",
      "3/3 - 0s - loss: 4.4281 - 5ms/epoch - 2ms/step\n",
      "Epoch 26/100\n",
      "3/3 - 0s - loss: 4.4119 - 4ms/epoch - 1ms/step\n",
      "Epoch 27/100\n",
      "3/3 - 0s - loss: 4.3962 - 5ms/epoch - 2ms/step\n",
      "Epoch 28/100\n",
      "3/3 - 0s - loss: 4.3787 - 5ms/epoch - 2ms/step\n",
      "Epoch 29/100\n",
      "3/3 - 0s - loss: 4.3633 - 4ms/epoch - 1ms/step\n",
      "Epoch 30/100\n",
      "3/3 - 0s - loss: 4.3470 - 5ms/epoch - 2ms/step\n",
      "Epoch 31/100\n",
      "3/3 - 0s - loss: 4.3306 - 4ms/epoch - 1ms/step\n",
      "Epoch 32/100\n",
      "3/3 - 0s - loss: 4.3145 - 5ms/epoch - 2ms/step\n",
      "Epoch 33/100\n",
      "3/3 - 0s - loss: 4.2986 - 5ms/epoch - 2ms/step\n",
      "Epoch 34/100\n",
      "3/3 - 0s - loss: 4.2835 - 4ms/epoch - 1ms/step\n",
      "Epoch 35/100\n",
      "3/3 - 0s - loss: 4.2678 - 4ms/epoch - 1ms/step\n",
      "Epoch 36/100\n",
      "3/3 - 0s - loss: 4.2524 - 5ms/epoch - 2ms/step\n",
      "Epoch 37/100\n",
      "3/3 - 0s - loss: 4.2358 - 4ms/epoch - 1ms/step\n",
      "Epoch 38/100\n",
      "3/3 - 0s - loss: 4.2203 - 4ms/epoch - 1ms/step\n",
      "Epoch 39/100\n",
      "3/3 - 0s - loss: 4.2056 - 4ms/epoch - 1ms/step\n",
      "Epoch 40/100\n",
      "3/3 - 0s - loss: 4.1896 - 4ms/epoch - 1ms/step\n",
      "Epoch 41/100\n",
      "3/3 - 0s - loss: 4.1749 - 4ms/epoch - 1ms/step\n",
      "Epoch 42/100\n",
      "3/3 - 0s - loss: 4.1585 - 5ms/epoch - 2ms/step\n",
      "Epoch 43/100\n",
      "3/3 - 0s - loss: 4.1429 - 4ms/epoch - 1ms/step\n",
      "Epoch 44/100\n",
      "3/3 - 0s - loss: 4.1277 - 4ms/epoch - 1ms/step\n",
      "Epoch 45/100\n",
      "3/3 - 0s - loss: 4.1120 - 5ms/epoch - 2ms/step\n",
      "Epoch 46/100\n",
      "3/3 - 0s - loss: 4.0971 - 5ms/epoch - 2ms/step\n",
      "Epoch 47/100\n",
      "3/3 - 0s - loss: 4.0810 - 4ms/epoch - 1ms/step\n",
      "Epoch 48/100\n",
      "3/3 - 0s - loss: 4.0658 - 5ms/epoch - 2ms/step\n",
      "Epoch 49/100\n",
      "3/3 - 0s - loss: 4.0503 - 4ms/epoch - 1ms/step\n",
      "Epoch 50/100\n",
      "3/3 - 0s - loss: 4.0357 - 5ms/epoch - 2ms/step\n",
      "Epoch 51/100\n",
      "3/3 - 0s - loss: 4.0198 - 4ms/epoch - 1ms/step\n",
      "Epoch 52/100\n",
      "3/3 - 0s - loss: 4.0052 - 5ms/epoch - 2ms/step\n",
      "Epoch 53/100\n",
      "3/3 - 0s - loss: 3.9896 - 4ms/epoch - 1ms/step\n",
      "Epoch 54/100\n",
      "3/3 - 0s - loss: 3.9749 - 7ms/epoch - 2ms/step\n",
      "Epoch 55/100\n",
      "3/3 - 0s - loss: 3.9603 - 5ms/epoch - 2ms/step\n",
      "Epoch 56/100\n",
      "3/3 - 0s - loss: 3.9452 - 6ms/epoch - 2ms/step\n",
      "Epoch 57/100\n",
      "3/3 - 0s - loss: 3.9303 - 4ms/epoch - 1ms/step\n",
      "Epoch 58/100\n",
      "3/3 - 0s - loss: 3.9173 - 4ms/epoch - 1ms/step\n",
      "Epoch 59/100\n",
      "3/3 - 0s - loss: 3.9017 - 5ms/epoch - 2ms/step\n",
      "Epoch 60/100\n",
      "3/3 - 0s - loss: 3.8872 - 4ms/epoch - 1ms/step\n",
      "Epoch 61/100\n",
      "3/3 - 0s - loss: 3.8729 - 4ms/epoch - 1ms/step\n",
      "Epoch 62/100\n",
      "3/3 - 0s - loss: 3.8584 - 4ms/epoch - 1ms/step\n",
      "Epoch 63/100\n",
      "3/3 - 0s - loss: 3.8449 - 5ms/epoch - 2ms/step\n",
      "Epoch 64/100\n",
      "3/3 - 0s - loss: 3.8306 - 4ms/epoch - 1ms/step\n",
      "Epoch 65/100\n",
      "3/3 - 0s - loss: 3.8161 - 4ms/epoch - 1ms/step\n",
      "Epoch 66/100\n",
      "3/3 - 0s - loss: 3.8022 - 5ms/epoch - 2ms/step\n",
      "Epoch 67/100\n",
      "3/3 - 0s - loss: 3.7881 - 5ms/epoch - 2ms/step\n",
      "Epoch 68/100\n",
      "3/3 - 0s - loss: 3.7741 - 5ms/epoch - 2ms/step\n",
      "Epoch 69/100\n",
      "3/3 - 0s - loss: 3.7610 - 5ms/epoch - 2ms/step\n",
      "Epoch 70/100\n",
      "3/3 - 0s - loss: 3.7465 - 4ms/epoch - 1ms/step\n",
      "Epoch 71/100\n",
      "3/3 - 0s - loss: 3.7326 - 5ms/epoch - 2ms/step\n",
      "Epoch 72/100\n",
      "3/3 - 0s - loss: 3.7193 - 4ms/epoch - 1ms/step\n",
      "Epoch 73/100\n",
      "3/3 - 0s - loss: 3.7050 - 5ms/epoch - 2ms/step\n",
      "Epoch 74/100\n",
      "3/3 - 0s - loss: 3.6910 - 5ms/epoch - 2ms/step\n",
      "Epoch 75/100\n",
      "3/3 - 0s - loss: 3.6781 - 4ms/epoch - 1ms/step\n",
      "Epoch 76/100\n",
      "3/3 - 0s - loss: 3.6644 - 4ms/epoch - 1ms/step\n",
      "Epoch 77/100\n",
      "3/3 - 0s - loss: 3.6509 - 5ms/epoch - 2ms/step\n",
      "Epoch 78/100\n",
      "3/3 - 0s - loss: 3.6368 - 5ms/epoch - 2ms/step\n",
      "Epoch 79/100\n",
      "3/3 - 0s - loss: 3.6235 - 4ms/epoch - 1ms/step\n",
      "Epoch 80/100\n",
      "3/3 - 0s - loss: 3.6105 - 5ms/epoch - 2ms/step\n",
      "Epoch 81/100\n",
      "3/3 - 0s - loss: 3.5959 - 4ms/epoch - 1ms/step\n",
      "Epoch 82/100\n",
      "3/3 - 0s - loss: 3.5822 - 4ms/epoch - 1ms/step\n",
      "Epoch 83/100\n",
      "3/3 - 0s - loss: 3.5692 - 5ms/epoch - 2ms/step\n",
      "Epoch 84/100\n",
      "3/3 - 0s - loss: 3.5556 - 6ms/epoch - 2ms/step\n",
      "Epoch 85/100\n",
      "3/3 - 0s - loss: 3.5418 - 5ms/epoch - 2ms/step\n",
      "Epoch 86/100\n",
      "3/3 - 0s - loss: 3.5280 - 6ms/epoch - 2ms/step\n",
      "Epoch 87/100\n",
      "3/3 - 0s - loss: 3.5151 - 5ms/epoch - 2ms/step\n",
      "Epoch 88/100\n",
      "3/3 - 0s - loss: 3.5018 - 5ms/epoch - 2ms/step\n",
      "Epoch 89/100\n",
      "3/3 - 0s - loss: 3.4888 - 5ms/epoch - 2ms/step\n",
      "Epoch 90/100\n",
      "3/3 - 0s - loss: 3.4749 - 6ms/epoch - 2ms/step\n",
      "Epoch 91/100\n",
      "3/3 - 0s - loss: 3.4619 - 6ms/epoch - 2ms/step\n",
      "Epoch 92/100\n",
      "3/3 - 0s - loss: 3.4488 - 5ms/epoch - 2ms/step\n",
      "Epoch 93/100\n",
      "3/3 - 0s - loss: 3.4360 - 4ms/epoch - 1ms/step\n",
      "Epoch 94/100\n",
      "3/3 - 0s - loss: 3.4228 - 5ms/epoch - 2ms/step\n",
      "Epoch 95/100\n",
      "3/3 - 0s - loss: 3.4089 - 4ms/epoch - 1ms/step\n",
      "Epoch 96/100\n",
      "3/3 - 0s - loss: 3.3963 - 5ms/epoch - 2ms/step\n",
      "Epoch 97/100\n",
      "3/3 - 0s - loss: 3.3831 - 4ms/epoch - 1ms/step\n",
      "Epoch 98/100\n",
      "3/3 - 0s - loss: 3.3694 - 4ms/epoch - 1ms/step\n",
      "Epoch 99/100\n",
      "3/3 - 0s - loss: 3.3568 - 4ms/epoch - 1ms/step\n",
      "Epoch 100/100\n",
      "3/3 - 0s - loss: 3.3435 - 4ms/epoch - 1ms/step\n",
      "1/1 [==============================] - 0s 24ms/step\n",
      "Mean Squared Error: 3.7303\n"
     ]
    }
   ],
   "source": [
    "import numpy as np\n",
    "import tensorflow as tf\n",
    "from sklearn.model_selection import train_test_split\n",
    "from sklearn.metrics import mean_squared_error\n",
    "from sklearn.preprocessing import StandardScaler\n",
    "from tensorflow import keras\n",
    "from tensorflow.keras import layers\n",
    "# Generate synthetic data\n",
    "np.random.seed(0)\n",
    "X = np.random.rand(100, 1)  # Feature\n",
    "y = 2 * X + 1 + 0.1 * np.random.randn(100, 1)  # Target variable with noise\n",
    "# Split the data into training and testing sets\n",
    "X_train, X_test, y_train, y_test = train_test_split(X, y, test_size=0.2, random_state=42)\n",
    "# Standardize the features\n",
    "scaler = StandardScaler()\n",
    "X_train = scaler.fit_transform(X_train)\n",
    "X_test = scaler.transform(X_test)\n",
    "# Create a simple linear regression model using TensorFlow and Keras\n",
    "model = keras.Sequential([\n",
    "    layers.Input(shape=(1,)),\n",
    "    layers.Dense(1)\n",
    "])\n",
    "# Compile the model\n",
    "model.compile(optimizer='adam', loss='mean_squared_error')\n",
    "# Train the model\n",
    "model.fit(X_train, y_train, epochs=100, batch_size=32, verbose=2)\n",
    "# Make predictions on the test set\n",
    "y_pred = model.predict(X_test)\n",
    "# Calculate the Mean Squared Error on the test set\n",
    "mse = mean_squared_error(y_test, y_pred)\n",
    "print(f\"Mean Squared Error: {mse:.4f}\")"
   ]
  },
  {
   "cell_type": "markdown",
   "metadata": {},
   "source": [
    "A decrease in loss and time metrics (ms/epoch and ms/step) shows the efficiency increases as the training epochs increases"
   ]
  },
  {
   "cell_type": "markdown",
   "metadata": {},
   "source": [
    "## Hack\n",
    "fill in the missing code to match the custom data set"
   ]
  },
  {
   "cell_type": "code",
   "execution_count": 28,
   "metadata": {},
   "outputs": [
    {
     "name": "stdout",
     "output_type": "stream",
     "text": [
      "1/1 [==============================] - 0s 43ms/step\n",
      "Mean Squared Error on the test set: 158474157368.09\n"
     ]
    }
   ],
   "source": [
    "import numpy as np\n",
    "import tensorflow as tf\n",
    "from sklearn.model_selection import train_test_split\n",
    "from sklearn.metrics import mean_squared_error\n",
    "from sklearn.preprocessing import StandardScaler\n",
    "from tensorflow import keras\n",
    "from tensorflow.keras import layers\n",
    "\n",
    "# Generate a custom dataset\n",
    "np.random.seed(0)\n",
    "num_samples = 100\n",
    "bedrooms = np.random.randint(1, 5, num_samples)\n",
    "square_footage = np.random.randint(1000, 2500, num_samples)\n",
    "house_prices = 100000 + 50000 * bedrooms + 100 * square_footage + 10000 * np.random.randn(num_samples)\n",
    "X = np.column_stack((bedrooms, square_footage))\n",
    "y = house_prices.reshape(-1, 1)\n",
    "\n",
    "# Split the data into training and testing sets\n",
    "X_train, X_test, y_train, y_test = train_test_split(X, y, test_size=0.2, random_state=42)\n",
    "\n",
    "# Standardize the features\n",
    "scaler = StandardScaler()\n",
    "X_train = scaler.fit_transform(X_train)\n",
    "X_test = scaler.transform(X_test)\n",
    "\n",
    "# Create a regression model using TensorFlow and Keras\n",
    "model = keras.Sequential([\n",
    "    layers.Input(shape=(2,)),  # Input shape adjusted to the number of features\n",
    "    layers.Dense(64, activation='relu'),\n",
    "    layers.Dense(1)  # Output layer for regression\n",
    "])\n",
    "\n",
    "# Compile the model for regression\n",
    "model.compile(optimizer='adam', loss='mean_squared_error')\n",
    "\n",
    "# Train the model\n",
    "model.fit(X_train, y_train, epochs=100, batch_size=32, verbose=0)\n",
    "\n",
    "# Make predictions on the test set\n",
    "y_pred = model.predict(X_test)\n",
    "\n",
    "# Calculate the Mean Squared Error on the test set\n",
    "mse = mean_squared_error(y_test, y_pred)\n",
    "print(f\"Mean Squared Error on the test set: {mse:.2f}\")"
   ]
  },
  {
   "cell_type": "markdown",
   "metadata": {},
   "source": [
    "## HOMEWORK 1\n",
    "\n",
    "Create a GPA calculator using Pandas and Matplot libraries and make:\n",
    "1) A dataframe\n",
    "2) A specified dictionary\n",
    "3) and a print function that outputs the final GPA\n",
    "\n",
    "Extra points can be earned with creativity."
   ]
  },
  {
   "cell_type": "code",
   "execution_count": 3,
   "metadata": {},
   "outputs": [
    {
     "data": {
      "image/png": "[encoded data removed]",
      "text/plain": [
       "<Figure size 432x288 with 1 Axes>"
      ]
     },
     "metadata": {
      "needs_background": "light"
     },
     "output_type": "display_data"
    },
    {
     "name": "stdout",
     "output_type": "stream",
     "text": [
      "Tanav has a GPA of 3.50 this trimester\n"
     ]
    }
   ],
   "source": [
    "# Import the Pandas library\n",
    "import pandas as pd\n",
    "\n",
    "# Import the Matplotlib library \n",
    "import matplotlib.pyplot as plt\n",
    "\n",
    "# Create a dictionary 'data' containing course information\n",
    "data = {\n",
    "    'Course': ['Calc', 'Chem', 'CSP', 'World', 'Art'],\n",
    "    'Credits': [3, 3, 4, 2, 2],\n",
    "    'Grade': ['A', 'B', 'A', 'C', 'A'],\n",
    "}\n",
    "\n",
    "# Create a Pandas DataFrame 'df' from the 'data' dictionary\n",
    "df = pd.DataFrame(data)\n",
    "\n",
    "# Create a dictionary 'grade_points' to map letter grades to grade points\n",
    "grade_points = {\n",
    "    'A': 4.0,\n",
    "    'A-': 3.7,\n",
    "    'B+': 3.3,\n",
    "    'B': 3.0,\n",
    "    'B-': 2.7,\n",
    "    'C+': 2.3,\n",
    "    'C': 2.0,\n",
    "    'C-': 1.7,\n",
    "    'D+': 1.3,\n",
    "    'D': 1.0,\n",
    "    'F': 0.0,\n",
    "}\n",
    "\n",
    "# Add a new column 'Grade Points' to the DataFrame 'df' based on the 'Grade' column\n",
    "df['Grade Points'] = df['Grade'].map(grade_points)\n",
    "\n",
    "# Calculate the total grade points by multiplying 'Grade Points' and 'Credits' columns and summing them\n",
    "total_grade_points = (df['Grade Points'] * df['Credits']).sum()\n",
    "\n",
    "# Calculate the total credits by summing the 'Credits' column\n",
    "total_credits = df['Credits'].sum()\n",
    "\n",
    "# Calculate the GPA by dividing the total grade points by the total credits\n",
    "gpa = total_grade_points / total_credits\n",
    "\n",
    "# Create a bar chart to visualize the 'Grade Points' for each course\n",
    "plt.bar(df['Course'], df['Grade Points'])\n",
    "plt.xlabel('Course')\n",
    "plt.ylabel('Grade Points')\n",
    "plt.title('Course Grade Points')\n",
    "\n",
    "# Display the bar chart\n",
    "plt.show()\n",
    "\n",
    "# Define a function 'print_final_gpa' to print the final GPA\n",
    "def print_final_gpa(gpa):\n",
    "    print(f'Tanav has a GPA of {gpa:.2f} this trimester')\n",
    "\n",
    "# Call the 'print_final_gpa' function with the calculated GPA and print it\n",
    "print_final_gpa(gpa)"
   ]
  },
  {
   "cell_type": "markdown",
   "metadata": {},
   "source": [
    "## HOMEWORK 2\n",
    "\n",
    "Import and use the \"random\" library to generate 50 different points from the range 0-100, then display the randomized data using a scatter plot.\n",
    "\n",
    "Extra points can be earned with creativity."
   ]
  },
  {
   "cell_type": "code",
   "execution_count": 4,
   "metadata": {},
   "outputs": [
    {
     "data": {
      "image/png": "[encoded data removed]",
      "text/plain": [
       "<Figure size 432x288 with 1 Axes>"
      ]
     },
     "metadata": {
      "needs_background": "light"
     },
     "output_type": "display_data"
    }
   ],
   "source": [
    "import random\n",
    "import matplotlib.pyplot as plt\n",
    "\n",
    "# Generate 50 random data points in the range of 0-100 for x and y coordinates\n",
    "x_coordinates = [random.randint(0, 100) for _ in range(50)]\n",
    "y_coordinates = [random.randint(0, 100) for _ in range(50)]\n",
    "\n",
    "# Create a scatter plot\n",
    "plt.scatter(x_coordinates, y_coordinates, c='b', marker='o', label='Random Data')\n",
    "\n",
    "# Add labels and a title to the plot\n",
    "plt.xlabel('X-axis')\n",
    "plt.ylabel('Y-axis')\n",
    "plt.title('Random Data Scatter Plot')\n",
    "\n",
    "# Added some creativity: changed the marker color for every point\n",
    "for x, y in zip(x_coordinates, y_coordinates):\n",
    "    color = \"#{:02x}{:02x}{:02x}\".format(random.randint(0, 255), random.randint(0, 255), random.randint(0, 255))\n",
    "    plt.scatter(x, y, c=color, marker='o', s=50)  # s parameter controls marker size\n",
    "\n",
    "# Display the plot\n",
    "plt.legend()\n",
    "plt.grid(True)\n",
    "plt.show()"
   ]
  }
 ],
 "metadata": {
  "kernelspec": {
   "display_name": "Python 3",
   "language": "python",
   "name": "python3"
  },
  "language_info": {
   "codemirror_mode": {
    "name": "ipython",
    "version": 3
   },
   "file_extension": ".py",
   "mimetype": "text/x-python",
   "name": "python",
   "nbconvert_exporter": "python",
   "pygments_lexer": "ipython3",
   "version": "3.10.12"
  }
 },
 "nbformat": 4,
 "nbformat_minor": 2
}
