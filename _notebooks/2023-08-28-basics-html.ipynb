{
 "cells": [
  {
   "cell_type": "markdown",
   "metadata": {},
   "source": [
    "---\n",
    "layout: post\n",
    "hide: True\n",
    "title: Basics of HTML Guide\n",
    "description: An introduction to basic HTML, and resources to learn more.\n",
    "type: ccc\n",
    "permalink: /basics/html\n",
    "---"
   ]
  },
  {
   "cell_type": "code",
   "execution_count": 16,
   "metadata": {
    "vscode": {
     "languageId": "html"
    }
   },
   "outputs": [
    {
     "data": {
      "text/html": [
       "\n",
       "<h1>Welcome to my first HTML Wireframe example</h1>\n",
       "\n",
       "<div>\n",
       "\n",
       "    <p>Here is a small snippet of code that we will look at:</p>\n",
       "\n",
       "    <p>This is a random button that will have more function later on...</p>\n",
       "    <button>some button text</button>\n",
       "</div>\n",
       "\n",
       "<p></p>\n",
       "\n",
       "<!-- second information -->\n",
       "<div>\n",
       "    <a href=\"https://www.premierleague.com/\">Watch Live Highlights of the from the best soccer league in the world!</a>\n",
       "    <p></p>\n",
       "    <a href=\"https://www.youtube.com/\">Stream Content From Some of Your Favorite Creators</a>\n",
       "    <p>These are probably my two most visited sites on the web, can you guess what they are?</p>\n",
       "</div>\n"
      ],
      "text/plain": [
       "<IPython.core.display.HTML object>"
      ]
     },
     "metadata": {},
     "output_type": "display_data"
    }
   ],
   "source": [
    "%%html\n",
    "\n",
    "<h1>Welcome to my first HTML Wireframe example</h1>\n",
    "\n",
    "<div>\n",
    "\n",
    "    <p>Here is a small snippet of code that we will look at:</p>\n",
    "\n",
    "    <p>This is a random button that will have more function later on...</p>\n",
    "    <button>some button text</button>\n",
    "</div>\n",
    "\n",
    "<p></p>\n",
    "\n",
    "<!-- second information -->\n",
    "<div>\n",
    "    <a href=\"https://www.premierleague.com/\">Watch Live Highlights of the from the best soccer league in the world!</a>\n",
    "    <p></p>\n",
    "    <a href=\"https://www.youtube.com/\">Stream Content From Some of Your Favorite Creators</a>\n",
    "    <p>These are probably my two most visited sites on the web, can you guess what they are?</p>\n",
    "</div>\n"
   ]
  }
 ],
 "metadata": {
  "kernelspec": {
   "display_name": "Python 3",
   "language": "python",
   "name": "python3"
  },
  "language_info": {
   "codemirror_mode": {
    "name": "ipython",
    "version": 3
   },
   "file_extension": ".py",
   "mimetype": "text/x-python",
   "name": "python",
   "nbconvert_exporter": "python",
   "pygments_lexer": "ipython3",
   "version": "3.10.12"
  },
  "orig_nbformat": 4
 },
 "nbformat": 4,
 "nbformat_minor": 2
}
