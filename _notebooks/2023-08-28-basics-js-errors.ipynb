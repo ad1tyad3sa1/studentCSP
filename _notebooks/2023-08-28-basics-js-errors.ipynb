{
 "cells": [
  {
   "cell_type": "markdown",
   "metadata": {},
   "source": [
    "---\n",
    "layout: post\n",
    "title: Correcting errors\n",
    "description: Practice with identifying and correcting code blocks\n",
    "type: ccc\n",
    "permalink: /basics/js-debug\n",
    "hide: True\n",
    "---"
   ]
  },
  {
   "cell_type": "markdown",
   "metadata": {},
   "source": [
    "## Code Segment 1\n",
    "\n",
    "I noticed the code pushing numbers from 0 to 9 into the alphabetList array, rather than characters from the alphabet string. I changed this so that the code correctly iterates through the alphabet string and pushes each character into the alphabetList array."
   ]
  },
  {
   "cell_type": "code",
   "execution_count": 1,
   "metadata": {
    "vscode": {
     "languageId": "javascript"
    }
   },
   "outputs": [
    {
     "data": {
      "application/javascript": "\nvar alphabet = \"abcdefghijklmnopqrstuvwxyz\";\nvar alphabetList = [];\n\nfor (var i = 0; i < alphabet.length; i++) {\n    alphabetList.push(alphabet[i]);\n}\n\nconsole.log(alphabetList);\n",
      "text/plain": [
       "<IPython.core.display.Javascript object>"
      ]
     },
     "metadata": {},
     "output_type": "display_data"
    }
   ],
   "source": [
    "%%js\n",
    "\n",
    "var alphabet = \"abcdefghijklmnopqrstuvwxyz\";\n",
    "var alphabetList = [];\n",
    "\n",
    "for (var i = 0; i < alphabet.length; i++) {\n",
    "    alphabetList.push(alphabet[i]);\n",
    "}\n",
    "\n",
    "console.log(alphabetList);"
   ]
  },
  {
   "cell_type": "markdown",
   "metadata": {},
   "source": [
    "## Code Segment 2\n",
    "\n",
    "Loop Termination Condition: In the original code, the loop's termination condition was i < alphabetList, which suggests that the loop should continue as long as i is less than the alphabetList variable. However, it should iterate through the characters in the alphabet string instead. I fixed this by changing the condition to i < alphabet.length, ensuring that the loop iterates through the alphabet's characters.\n",
    "\n",
    "Comparison Condition: In the original code, you were comparing i to letterNumber. However, to find the position of a specific letter in the alphabet, you should compare the characters in the alphabet string to the target letter. I corrected this by comparing each character to the target letter targetLetter obtained from the alphabet string.\n",
    "\n",
    "Printed Message: In the original code, the printed message didn't accurately describe the position of the target letter in the alphabet. I fixed this by constructing a message that indicates the correct position of the letter based on its 1-based index."
   ]
  },
  {
   "cell_type": "code",
   "execution_count": 2,
   "metadata": {
    "vscode": {
     "languageId": "javascript"
    }
   },
   "outputs": [
    {
     "data": {
      "application/javascript": "\nvar alphabet = \"abcdefghijklmnopqrstuvwxyz\";\nvar letterNumber = 5; // Change this to the desired letter position (1-based index)\n\nif (letterNumber >= 1 && letterNumber <= alphabet.length) {\n    var targetLetter = alphabet[letterNumber - 1];\n    console.log(targetLetter + \" is letter number \" + letterNumber + \" in the alphabet\");\n} else {\n    console.log(\"Letter number is out of range.\");\n}\n",
      "text/plain": [
       "<IPython.core.display.Javascript object>"
      ]
     },
     "metadata": {},
     "output_type": "display_data"
    }
   ],
   "source": [
    "%%js\n",
    "\n",
    "var alphabet = \"abcdefghijklmnopqrstuvwxyz\";\n",
    "var letterNumber = 5; // Change this to the desired letter position (1-based index)\n",
    "\n",
    "if (letterNumber >= 1 && letterNumber <= alphabet.length) {\n",
    "    var targetLetter = alphabet[letterNumber - 1];\n",
    "    console.log(targetLetter + \" is letter number \" + letterNumber + \" in the alphabet\");\n",
    "} else {\n",
    "    console.log(\"Letter number is out of range.\");\n",
    "}"
   ]
  },
  {
   "cell_type": "markdown",
   "metadata": {},
   "source": [
    "## Code Segment 3\n",
    "\n",
    "I changed the code from outputting the even numbers under 10 to outputting the odd numbers under 10. We can do this by defining the odds, starting with 1, and then by increasing with the same increment of 2 to output the later numbers. This will generate a list for the odd numbers."
   ]
  },
  {
   "cell_type": "code",
   "execution_count": 5,
   "metadata": {
    "vscode": {
     "languageId": "javascript"
    }
   },
   "outputs": [
    {
     "data": {
      "application/javascript": "\nlet odds = [];\nlet i = 1; // Start with 1, which is the first odd number\n\nwhile (i < 10) { // Continue as long as i is less than 10\nodds.push(i);\n  i += 2; // Increment by 2 to get the next odd number\n}\n\nconsole.log(odds);\n",
      "text/plain": [
       "<IPython.core.display.Javascript object>"
      ]
     },
     "metadata": {},
     "output_type": "display_data"
    }
   ],
   "source": [
    "%%js\n",
    "\n",
    "let odds = [];\n",
    "let i = 1; // Start with 1, which is the first odd number\n",
    "\n",
    "while (i < 10) { // Continue as long as i is less than 10\n",
    "odds.push(i);\n",
    "  i += 2; // Increment by 2 to get the next odd number\n",
    "}\n",
    "\n",
    "console.log(odds);"
   ]
  },
  {
   "cell_type": "markdown",
   "metadata": {},
   "source": [
    "For the final example, the outputs displayed wrong for NewNumbers are the numbers like 10, 20, etc... because they are both multiples of 2 and 5 meaning they may be outputted twice. "
   ]
  }
 ],
 "metadata": {
  "kernelspec": {
   "display_name": "Python 3.10.6 64-bit",
   "language": "python",
   "name": "python3"
  },
  "language_info": {
   "codemirror_mode": {
    "name": "ipython",
    "version": 3
   },
   "file_extension": ".py",
   "mimetype": "text/x-python",
   "name": "python",
   "nbconvert_exporter": "python",
   "pygments_lexer": "ipython3",
   "version": "3.10.12"
  },
  "orig_nbformat": 4,
  "vscode": {
   "interpreter": {
    "hash": "aee8b7b246df8f9039afb4144a1f6fd8d2ca17a180786b69acc140d282b71a49"
   }
  }
 },
 "nbformat": 4,
 "nbformat_minor": 2
}
