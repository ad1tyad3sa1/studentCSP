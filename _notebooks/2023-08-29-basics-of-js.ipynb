{
 "cells": [
  {
   "cell_type": "markdown",
   "metadata": {},
   "source": [
    "---\n",
    "title: Basics of Javascript\n",
    "hide: True\n",
    "description: Javascript program\n",
    "type: ccc\n",
    "permalink: /basics/javascript\n",
    "---"
   ]
  },
  {
   "cell_type": "code",
   "execution_count": 6,
   "metadata": {
    "vscode": {
     "languageId": "javascript"
    }
   },
   "outputs": [
    {
     "data": {
      "application/javascript": "\n// Generate two random numbers between 1 and 10\nvar a = Math.floor(Math.random() * 10) + 1;\nvar b = Math.floor(Math.random() * 10) + 1;\n\n// Compare a and b using if statements\nif (a > b) {\n    console.log(\"a is greater\");\n} else if (b > a) {\n    console.log(\"b is greater\");\n} else {\n    console.log(\"both are equal\");\n}\n\n// Display the randomly generated values of a and b\nconsole.log(\"a =\", a);\nconsole.log(\"b =\", b);\n",
      "text/plain": [
       "<IPython.core.display.Javascript object>"
      ]
     },
     "metadata": {},
     "output_type": "display_data"
    }
   ],
   "source": [
    "%%js\n",
    "\n",
    "// Generate two random numbers between 1 and 10\n",
    "var a = Math.floor(Math.random() * 10) + 1;\n",
    "var b = Math.floor(Math.random() * 10) + 1;\n",
    "\n",
    "// Compare a and b using if statements\n",
    "if (a > b) {\n",
    "    console.log(\"a is greater\");\n",
    "} else if (b > a) {\n",
    "    console.log(\"b is greater\");\n",
    "} else {\n",
    "    console.log(\"both are equal\");\n",
    "}\n",
    "\n",
    "// Display the randomly generated values of a and b\n",
    "console.log(\"a =\", a);\n",
    "console.log(\"b =\", b);"
   ]
  }
 ],
 "metadata": {
  "kernelspec": {
   "display_name": "Python 3",
   "language": "python",
   "name": "python3"
  },
  "language_info": {
   "codemirror_mode": {
    "name": "ipython",
    "version": 3
   },
   "file_extension": ".py",
   "mimetype": "text/x-python",
   "name": "python",
   "nbconvert_exporter": "python",
   "pygments_lexer": "ipython3",
   "version": "3.10.12"
  },
  "orig_nbformat": 4
 },
 "nbformat": 4,
 "nbformat_minor": 2
}
