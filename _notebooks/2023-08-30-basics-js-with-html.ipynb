{
 "cells": [
  {
   "cell_type": "markdown",
   "metadata": {},
   "source": [
    "---\n",
    "title: Using Javascript with HTML DOM\n",
    "hide: True\n",
    "description: Working with javascript and html\n",
    "type: ccc\n",
    "permalink: /basics/dom\n",
    "---"
   ]
  },
  {
   "cell_type": "code",
   "execution_count": 4,
   "metadata": {
    "vscode": {
     "languageId": "html"
    }
   },
   "outputs": [
    {
     "data": {
      "text/html": [
       "\n",
       "<h1>This is a heading</h1>\n",
       "\n",
       "<p>This is a paragraph.</p>\n",
       "\n",
       "<div>\n",
       "    <!-- notice how tags can be put INSIDE eachother -->\n",
       "    <p>This is the first paragarph of section 1</p>\n",
       "    <button onclick=\"switchLinks()\">Switch Links</button>\n",
       "</div>\n",
       "\n",
       "<!-- second information -->\n",
       "<div>\n",
       "    <!-- notice how tags can be put INSIDE eachother -->\n",
       "    <a href=\"https://www.premierleague.com/\">Watch Live Highlights of the Premier League</a>\n",
       "    <p></p>\n",
       "    <a href=\"https://www.youtube.com/\">Stream Content From Some of Your Favorite Creators</a>\n",
       "    <p>This is the first paragraph of section 2</p>\n",
       "</div>\n",
       "\n",
       "<script>\n",
       "    function switchLinks() {\n",
       "        // Get references to the two <a> tags\n",
       "        var link1 = document.querySelector('a[href=\"https://www.premierleague.com/\"]');\n",
       "        var link2 = document.querySelector('a[href=\"https://www.youtube.com/\"]');\n",
       "\n",
       "        // Swap the href attributes of the two <a> tags\n",
       "        var tempHref = link1.href;\n",
       "        link1.href = link2.href;\n",
       "        link2.href = tempHref;\n",
       "\n",
       "        // Change the inner HTML of the top <p> tag\n",
       "        var topParagraph = document.querySelector('p');\n",
       "        topParagraph.innerHTML = \"Switched!\";\n",
       "    }\n",
       "</script>\n"
      ],
      "text/plain": [
       "<IPython.core.display.HTML object>"
      ]
     },
     "metadata": {},
     "output_type": "display_data"
    }
   ],
   "source": [
    "%%html\n",
    "\n",
    "<h1>This is a heading</h1>\n",
    "\n",
    "<p>This is a paragraph.</p>\n",
    "\n",
    "<div>\n",
    "    <!-- notice how tags can be put INSIDE eachother -->\n",
    "    <p>This is the first paragarph of section 1</p>\n",
    "    <button onclick=\"switchLinks()\">Switch Links</button>\n",
    "</div>\n",
    "\n",
    "<!-- second information -->\n",
    "<div>\n",
    "    <!-- notice how tags can be put INSIDE eachother -->\n",
    "    <a href=\"https://www.premierleague.com/\">Watch Live Highlights of the Premier League</a>\n",
    "    <p></p>\n",
    "    <a href=\"https://www.youtube.com/\">Stream Content From Some of Your Favorite Creators</a>\n",
    "    <p>This is the first paragraph of section 2</p>\n",
    "</div>\n",
    "\n",
    "<script>\n",
    "    function switchLinks() {\n",
    "        // Get references to the two <a> tags\n",
    "        var link1 = document.querySelector('a[href=\"https://www.premierleague.com/\"]');\n",
    "        var link2 = document.querySelector('a[href=\"https://www.youtube.com/\"]');\n",
    "\n",
    "        // Swap the href attributes of the two <a> tags\n",
    "        var tempHref = link1.href;\n",
    "        link1.href = link2.href;\n",
    "        link2.href = tempHref;\n",
    "\n",
    "        // Change the inner HTML of the top <p> tag\n",
    "        var topParagraph = document.querySelector('p');\n",
    "        topParagraph.innerHTML = \"Switched!\";\n",
    "    }\n",
    "</script>"
   ]
  }
 ],
 "metadata": {
  "kernelspec": {
   "display_name": "Python 3",
   "language": "python",
   "name": "python3"
  },
  "language_info": {
   "codemirror_mode": {
    "name": "ipython",
    "version": 3
   },
   "file_extension": ".py",
   "mimetype": "text/x-python",
   "name": "python",
   "nbconvert_exporter": "python",
   "pygments_lexer": "ipython3",
   "version": "3.10.12"
  },
  "orig_nbformat": 4
 },
 "nbformat": 4,
 "nbformat_minor": 2
}
