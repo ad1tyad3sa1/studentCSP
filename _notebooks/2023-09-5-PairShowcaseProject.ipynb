{
 "cells": [
  {
   "cell_type": "markdown",
   "metadata": {},
   "source": [
    "---\n",
    "comments: false\n",
    "layout: post\n",
    "title: PairShowcase Weather App\n",
    "description: Using Python Tricks we created a platform extracting data from OpenWeatherAPI\n",
    "type: hacks\n",
    "courses: { csp: {week: 3}}\n",
    "---"
   ]
  },
  {
   "cell_type": "code",
   "execution_count": 14,
   "metadata": {},
   "outputs": [
    {
     "name": "stdout",
     "output_type": "stream",
     "text": [
      "Weather in San Diego: 76.1°F, few clouds ☁️\n"
     ]
    }
   ],
   "source": [
    "import requests\n",
    "\n",
    "# Define a mapping of weather conditions to emojis\n",
    "weather_to_emoji = {\n",
    "    \"Clear\": \"☀️\",\n",
    "    \"Clouds\": \"☁️\",\n",
    "    \"Rain\": \"🌧️\",\n",
    "    \"Snow\": \"❄️\",\n",
    "    # Array of weather emoji's\n",
    "}\n",
    "\n",
    "def get_weather(api_key, city):\n",
    "    base_url = \"https://api.openweathermap.org/data/2.5/weather\"\n",
    "    \n",
    "    # Parameters for the API request\n",
    "    params = {\n",
    "        \"q\": city,\n",
    "        \"appid\": api_key,\n",
    "        \"units\": \"imperial\"  # Change this to \"metric\" for Celsius\n",
    "    }\n",
    "\n",
    "    try:\n",
    "        response = requests.get(base_url, params=params)\n",
    "        data = response.json()\n",
    "\n",
    "        if response.status_code == 200:\n",
    "            temperature = data[\"main\"][\"temp\"]\n",
    "            description = data[\"weather\"][0][\"description\"]\n",
    "            weather_condition = data[\"weather\"][0][\"main\"]\n",
    "            \n",
    "            # Get the emoji for the weather condition\n",
    "            emoji = weather_to_emoji.get(weather_condition, \"Unknown\")\n",
    "            \n",
    "            print(f\"Weather in {city}: {temperature}°F, {description} {emoji}\")\n",
    "        else:\n",
    "            print(f\"Error: {data['message']}\")\n",
    "    except Exception as e:\n",
    "        print(f\"An error occurred: {e}\")\n",
    "\n",
    "if __name__ == \"__main__\":\n",
    "    api_key = \"493b3e1c42763dd177d3c7483b146416\"\n",
    "    city = \"San Diego\"\n",
    "    \n",
    "    get_weather(api_key, city)"
   ]
  },
  {
   "cell_type": "markdown",
   "metadata": {},
   "source": [
    "# Details from the above code:\n",
    "\n",
    "- Get_weather function that takes an API key and a city name as input.\n",
    "The function constructs the API URL with the specified parameters, including the city and API key.\n",
    "- It sends a GET request to the OpenWeatherMap API analyzing the response.\n",
    "- If the response is successful it extracts the temperature and weather description and prints them.\n",
    "- If there is an error, it prints an error message.\n",
    "- You can change between Celsius and Fahrenheit by changing the units parameter to metric from imperial. Then just reformat the print statement to say degrees Celsius instead of Fahrenheit.  \n",
    "\n",
    "Note: I tried to implement the emoji library, but I saw no need in having to do that when I really just needed a few weather specific ones. Instead I created a customized array of emoji's where the program could just pick from depending on what the weather is."
   ]
  }
 ],
 "metadata": {
  "kernelspec": {
   "display_name": "Python 3",
   "language": "python",
   "name": "python3"
  },
  "language_info": {
   "codemirror_mode": {
    "name": "ipython",
    "version": 3
   },
   "file_extension": ".py",
   "mimetype": "text/x-python",
   "name": "python",
   "nbconvert_exporter": "python",
   "pygments_lexer": "ipython3",
   "version": "3.10.12"
  },
  "orig_nbformat": 4
 },
 "nbformat": 4,
 "nbformat_minor": 2
}
