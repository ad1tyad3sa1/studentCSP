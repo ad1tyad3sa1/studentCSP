{
 "cells": [
  {
   "cell_type": "markdown",
   "metadata": {},
   "source": [
    "---\n",
    "toc: false\n",
    "comments: false\n",
    "layout: post\n",
    "title: Boolean, If Lesson HW\n",
    "description: Here is my completed work.\n",
    "type: hacks\n",
    "courses: { csp: {week: 7} }\n",
    "---"
   ]
  },
  {
   "cell_type": "markdown",
   "metadata": {},
   "source": [
    "# Boolean\n",
    "\n",
    "- A Boolean value is either true or false.\n",
    "- A Boolean expression produces a Boolean value (true or false) when evaluated."
   ]
  },
  {
   "cell_type": "markdown",
   "metadata": {},
   "source": [
    "## <mark>Conditional (\"if\") statements</mark>\n",
    "\n",
    "- Affect the sequential flow of control by executing different statements based on the value of a Boolean expression."
   ]
  },
  {
   "cell_type": "code",
   "execution_count": null,
   "metadata": {
    "vscode": {
     "languageId": "html"
    }
   },
   "outputs": [],
   "source": [
    "IF (condition)\n",
    "{\n",
    "\t<block of statements>\n",
    "}\n",
    "\n",
    "The code in <block of statements> is executed if the Boolean expression condition evaluates to true; no action is taken if condition evaluates to false.\n",
    "\n",
    "IF (condition)\n",
    "{\n",
    "\t<block of statements>\n",
    "}\n",
    "ELSE\n",
    "{\n",
    "\t<second block of statements>\n",
    "}\n",
    "\n",
    "The code in the first <block of statements> is executed if the Boolean expression condition evaluates to true; otherwise, the code in <second block of statements> is executed."
   ]
  },
  {
   "cell_type": "markdown",
   "metadata": {},
   "source": [
    "<b>Example:</b> Calculate the sum of 2 numbers. If the sum is greater than 10, display 10; otherwise, display the sum."
   ]
  },
  {
   "cell_type": "code",
   "execution_count": null,
   "metadata": {
    "vscode": {
     "languageId": "html"
    }
   },
   "outputs": [],
   "source": [
    "num1 = INPUT\n",
    "num2 = INPUT\n",
    "sum = num1 + num2\n",
    "IF (sum > 10)\n",
    "{\n",
    "\tDISPLAY (10)\n",
    "}\n",
    "ELSE\n",
    "{\n",
    "\tDISPLAY (sum)\n",
    "}"
   ]
  },
  {
   "cell_type": "markdown",
   "metadata": {},
   "source": [
    "# Hack 1\n",
    "\n",
    "- Add a variable that represents an age.\n",
    "\n",
    "- Add an 'if' and 'print' function that says \"You are an adult\" if your age is greater than or equal to 18.\n",
    "\n",
    "- Make a function that prints \"You are a minor\" with the else function."
   ]
  },
  {
   "cell_type": "code",
   "execution_count": 1,
   "metadata": {},
   "outputs": [
    {
     "name": "stdout",
     "output_type": "stream",
     "text": [
      "You are a minor\n"
     ]
    }
   ],
   "source": [
    "age = int(input(\"Enter your age: \"))\n",
    "\n",
    "if age >= 18:\n",
    "    print(\"You are an adult\")\n",
    "else:\n",
    "    print(\"You are a minor\")"
   ]
  },
  {
   "cell_type": "markdown",
   "metadata": {},
   "source": [
    "## <mark><b>Relational operators:</b></mark> \n",
    "- Used to test the relationship between 2 variables, expressions, or values. These relational operators are used for comparisons and they evaluate to a Boolean value (true or false).\n",
    "\n",
    "<b>Ex.</b> a == b evaluates to true if a and b are equal, otherwise evaluates to false\n",
    "\n",
    "- a == b (equals)\t\n",
    "- a != b (not equal to)\n",
    "- a > b (greater than)\n",
    "- a < b (less than)\n",
    "- a >= b (greater than or equal to)\n",
    "- a <= b (less than or equal to)"
   ]
  },
  {
   "cell_type": "markdown",
   "metadata": {},
   "source": [
    "<b>Example:</b> The legal age to work in California is 14 years old. How would we write a Boolean expression to check if someone is at least 14 years old?\n",
    "\n",
    "age >= 14"
   ]
  },
  {
   "cell_type": "markdown",
   "metadata": {},
   "source": [
    "<b>Example:</b> Write a Boolean expression to check if the average of height1, height2, and height3 is at least 65 inches.\n",
    "\n",
    "(height1 + height2 + height3) / 3 >= 65"
   ]
  },
  {
   "cell_type": "markdown",
   "metadata": {},
   "source": [
    "# Hack 2\n",
    "\n",
    "- Make a variable called 'is_raining' and set it to 'True\".\n",
    "\n",
    "- Make an if statement that prints \"Bring an umbrella!\" if it is true\n",
    "\n",
    "- Make an else statement that says \"The weather is clear\"."
   ]
  },
  {
   "cell_type": "code",
   "execution_count": 2,
   "metadata": {},
   "outputs": [
    {
     "name": "stdout",
     "output_type": "stream",
     "text": [
      "Bring an umbrella!\n"
     ]
    }
   ],
   "source": [
    "is_raining = True\n",
    "\n",
    "if is_raining:\n",
    "    print(\"Bring an umbrella!\")\n",
    "else:\n",
    "    print(\"The weather is clear\")"
   ]
  },
  {
   "cell_type": "markdown",
   "metadata": {},
   "source": [
    "## <mark><b>Logical operators:</b></mark>\n",
    "Used to evaluate multiple conditions to produce a single Boolean value.\n",
    "\n",
    "- <b>NOT</b>\tevaluates to true if condition is false, otherwise evaluates to false\n",
    "- <b>AND</b>\tevaluates to true if both conditions are true, otherwise evaluates to false\n",
    "- <b>OR</b>\tevaluates to true if either condition is true or if both conditions are true, otherwise evaluates to false"
   ]
  },
  {
   "cell_type": "markdown",
   "metadata": {},
   "source": [
    "<b>Example:</b> You win the game if you score at least 10 points and have 5 lives left or if you score at least 50 points and have more than 0 lives left. Write the Boolean expression for this scenario.\n",
    "\n",
    "(score >= 10 AND lives == 5) OR (score == 50 AND lives > 0)"
   ]
  },
  {
   "cell_type": "markdown",
   "metadata": {},
   "source": [
    "## <mark><b>Relational and logical operators:</b></mark>\n",
    "\n",
    "<b>Example:</b> These expressions are all different but will produce the same result.\n",
    "\n",
    "- age >= 16\n",
    "- age > 16 OR age == 16\n",
    "- NOT age < 16"
   ]
  },
  {
   "cell_type": "markdown",
   "metadata": {},
   "source": [
    "# Hack 3\n",
    "\n",
    "- Make a function to randomize numbers between 0 and 100 to be assigned to variables a and b using random.randint\n",
    "\n",
    "- Print the values of the variables\n",
    "\n",
    "- Print the relationship of the variables; a is more than, same as, or less than b"
   ]
  },
  {
   "cell_type": "code",
   "execution_count": 3,
   "metadata": {},
   "outputs": [
    {
     "name": "stdout",
     "output_type": "stream",
     "text": [
      "31\n",
      "19\n",
      "a is greater than b\n"
     ]
    }
   ],
   "source": [
    "import random\n",
    "\n",
    "a = random.randint(1, 100)\n",
    "b = random.randint(1, 100)\n",
    "\n",
    "print(a)\n",
    "\n",
    "print(b)\n",
    "\n",
    "if a > b:\n",
    "    print(\"a is greater than b\")\n",
    "elif a == b:\n",
    "    print(\"a is equal to b\")\n",
    "else:\n",
    "    print(\"b is greater than a\")"
   ]
  },
  {
   "cell_type": "markdown",
   "metadata": {},
   "source": [
    "## <b>Homework</b>\n",
    "\n",
    "### Criteria for above 90%:\n",
    "- Add more questions relating to Boolean rather than only one per topic (ideas: expand on conditional statements, relational/logical operators)\n",
    "- Add a way to organize the user scores (possibly some kind of leaderboard, keep track of high score vs. current score, etc. Get creative!)\n",
    "- Remember to test your code to make sure it functions correctly."
   ]
  },
  {
   "cell_type": "code",
   "execution_count": 4,
   "metadata": {},
   "outputs": [
    {
     "name": "stdout",
     "output_type": "stream",
     "text": [
      "Hello, aditya running /bin/python\n",
      "You will be asked 5 questions.\n",
      "Question: What are the two possible values for a boolean variable? (Answer with 'True' and 'False')\n",
      "Correct!\n",
      "Question: What is a boolean expression in programming?\n",
      "Incorrect. A boolean expression is a statement that evaluates to either True or False in programming.\n",
      "Question: What is the purpose of conditional (if-else) statements in programming?\n",
      "Correct!\n",
      "Question: Name one common relational operator in programming and provide an example.\n",
      "Incorrect. A common relational operator is 'greater than' (>) with an example like '5 > 3'.\n",
      "Question: Name one common logical operator in programming and provide an example.\n",
      "Incorrect. A common logical operator is 'logical AND' (&&) with an example like 'True && False'.\n",
      "Question: Name one Boolean operator used in programming and explain its purpose.\n",
      "Incorrect. A Boolean operator is 'logical NOT' (!), which is used to reverse the value of a Boolean expression.\n",
      "Question: What is short-circuit evaluation in the context of logical operators?\n",
      "Correct!\n",
      "Question: What are truthy and falsy values in programming?\n",
      "Incorrect. Truthy values are those treated as True, and falsy values are those treated as False in a Boolean context.\n",
      "aditya, you scored 3/5\n",
      "Your score is 60.0%.\n",
      "\n",
      "Leaderboard (Highest to Lowest Scores):\n",
      "aditya: 60.0%\n"
     ]
    }
   ],
   "source": [
    "# Import necessary modules\n",
    "import sys\n",
    "\n",
    "# Function to ask a question and get a response\n",
    "def question_with_response(prompt):\n",
    "    # Print the question\n",
    "    print(\"Question: \" + prompt)\n",
    "    # Get user input as the response\n",
    "    msg = input()\n",
    "    return msg\n",
    "\n",
    "# Define the number of questions and initialize the correct answers counter\n",
    "questions = 5\n",
    "correct = 0\n",
    "\n",
    "# Personalized greeting message\n",
    "# Collect the student's name\n",
    "user_name = input(\"Enter your name: \")\n",
    "print('Hello, ' + user_name + \" running \" + sys.executable)\n",
    "print(\"You will be asked \" + str(questions) + \" questions.\")\n",
    "answer = input(\"Are you ready to take the test? (yes/no): \")\n",
    "\n",
    "if answer.lower() != \"yes\":\n",
    "    print(\"Okay, maybe next time!\")\n",
    "else:\n",
    "    # Question 1: Boolean Basics\n",
    "    q1 = \"What are the two possible values for a boolean variable? (Answer with 'True' and 'False')\"\n",
    "    response1 = question_with_response(q1)\n",
    "    if response1.lower() == \"true false\":\n",
    "        print(\"Correct!\")\n",
    "        correct += 1\n",
    "    else:\n",
    "        print(\"Incorrect. The correct answer is 'True' and 'False'.\")\n",
    "\n",
    "    # Question 2: Boolean Expressions\n",
    "    q2 = \"What is a boolean expression in programming?\"\n",
    "    response2 = question_with_response(q2)\n",
    "    if \"a statement that evaluates to either True or False\" in response2.lower():\n",
    "        print(\"Correct!\")\n",
    "        correct += 1\n",
    "    else:\n",
    "        print(\"Incorrect. A boolean expression is a statement that evaluates to either True or False in programming.\")\n",
    "\n",
    "    # Question 3: Conditional Statements\n",
    "    q3 = \"What is the purpose of conditional (if-else) statements in programming?\"\n",
    "    response3 = question_with_response(q3)\n",
    "    if \"to make decisions based on certain conditions\" in response3.lower():\n",
    "        print(\"Correct!\")\n",
    "        correct += 1\n",
    "    else:\n",
    "        print(\"Incorrect. Conditional statements are used to make decisions based on certain conditions in programming.\")\n",
    "\n",
    "    # Question 4: Relational Operators\n",
    "    q4 = \"Name one common relational operator in programming and provide an example.\"\n",
    "    response4 = question_with_response(q4)\n",
    "    if (\"greater than\" in response4.lower() or \">\" in response4) and (\"5 > 3\" in response4):\n",
    "        print(\"Correct!\")\n",
    "        correct += 1\n",
    "    else:\n",
    "        print(\"Incorrect. A common relational operator is 'greater than' (>) with an example like '5 > 3'.\")\n",
    "\n",
    "    # Question 5: Logical Operators\n",
    "    q5 = \"Name one common logical operator in programming and provide an example.\"\n",
    "    response5 = question_with_response(q5)\n",
    "    if (\"logical AND\" in response5.upper() or \"&&\" in response5) and (\"True && False\" in response5):\n",
    "        print(\"Correct!\")\n",
    "        correct += 1\n",
    "    else:\n",
    "        print(\"Incorrect. A common logical operator is 'logical AND' (&&) with an example like 'True && False'.\")\n",
    "\n",
    "# Question 6: Boolean Operators\n",
    "q6 = \"Name one Boolean operator used in programming and explain its purpose.\"\n",
    "response6 = question_with_response(q6)\n",
    "if (\"logical NOT\" in response6.upper() or \"!\" in response6) and (\"used to reverse the value of a Boolean expression\" in response6.lower()):\n",
    "    print(\"Correct!\")\n",
    "    correct += 1\n",
    "else:\n",
    "    print(\"Incorrect. A Boolean operator is 'logical NOT' (!), which is used to reverse the value of a Boolean expression.\")\n",
    "\n",
    "# Question 7: Short-Circuit Evaluation\n",
    "q7 = \"What is short-circuit evaluation in the context of logical operators?\"\n",
    "response7 = question_with_response(q7)\n",
    "if \"evaluating as few operands as possible to determine the result\" in response7.lower():\n",
    "    print(\"Correct!\")\n",
    "    correct += 1\n",
    "else:\n",
    "    print(\"Incorrect. Short-circuit evaluation is the practice of evaluating as few operands as possible to determine the result of a logical expression.\")\n",
    "\n",
    "# Question 8: Truthy and Falsy Values\n",
    "q8 = \"What are truthy and falsy values in programming?\"\n",
    "response8 = question_with_response(q8)\n",
    "if \"values that are treated as True or False in a Boolean context\" in response8.lower():\n",
    "    print(\"Correct!\")\n",
    "    correct += 1\n",
    "else:\n",
    "    print(\"Incorrect. Truthy values are those treated as True, and falsy values are those treated as False in a Boolean context.\")\n",
    "\n",
    "    # Display the final score\n",
    "    # Calculate the percentage of correct answers and provide feedback\n",
    "    score_percentage = (correct / questions) * 100\n",
    "    print(user_name + \", you scored \" + str(correct) + \"/\" + str(questions))\n",
    "    print(\"Your score is \" + str(score_percentage) + \"%.\")\n",
    "    \n",
    "    #Leaderboard empty dictionary\n",
    "    leaderboard = {}\n",
    "    \n",
    "    # Add the user's score to the leaderboard\n",
    "    leaderboard[user_name] = score_percentage\n",
    "\n",
    "    # Sort the leaderboard by scores (from highest to lowest)\n",
    "    sorted_leaderboard = {k: v for k, v in sorted(leaderboard.items(), key=lambda item: item[1], reverse=True)}\n",
    "\n",
    "    # Display the sorted leaderboard\n",
    "    print(\"\\nLeaderboard (Highest to Lowest Scores):\")\n",
    "    for user, score in sorted_leaderboard.items():\n",
    "        print(f\"{user}: {score}%\")\n"
   ]
  }
 ],
 "metadata": {
  "kernelspec": {
   "display_name": "Python 3 (ipykernel)",
   "language": "python",
   "name": "python3"
  },
  "language_info": {
   "codemirror_mode": {
    "name": "ipython",
    "version": 3
   },
   "file_extension": ".py",
   "mimetype": "text/x-python",
   "name": "python",
   "nbconvert_exporter": "python",
   "pygments_lexer": "ipython3",
   "version": "3.10.12"
  }
 },
 "nbformat": 4,
 "nbformat_minor": 2
}
