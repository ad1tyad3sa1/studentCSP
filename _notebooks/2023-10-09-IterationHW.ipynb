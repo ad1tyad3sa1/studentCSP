{
 "cells": [
  {
   "cell_type": "markdown",
   "metadata": {},
   "source": [
    "## Homework\n",
    "\n"
   ]
  },
  {
   "cell_type": "markdown",
   "metadata": {},
   "source": [
    "# Create a function that takes a list of numbers and arranges the in descending order\n",
    "For example this function should be able to take the list [35,4,6,90,2,55,13,8] and arrange it into [2,4,6,8,13.35,55,90]\n",
    "\n",
    "## Extra Credit\n",
    "Make it so this function can also sort strings by their length\n",
    "For example [Car,4,11,twenty,27,trees] should sort into [Car,4,trees,twenty,11,27]"
   ]
  },
  {
   "cell_type": "code",
   "execution_count": 11,
   "metadata": {},
   "outputs": [
    {
     "name": "stdout",
     "output_type": "stream",
     "text": [
      "[2, 4, 6, 8, 13, 35, 55, 90]\n"
     ]
    }
   ],
   "source": [
    "#Example with Integers \n",
    "def ascending_sort(nums):\n",
    "    n = len(nums)\n",
    "    \n",
    "    for i in range(n):\n",
    "        swapped = False\n",
    "        \n",
    "        for j in range(0, n-i-1):\n",
    "            if nums[j] > nums[j+1]:\n",
    "                nums[j], nums[j+1] = nums[j+1], nums[j]\n",
    "                swapped = True\n",
    "        \n",
    "        if not swapped:\n",
    "            break\n",
    "    \n",
    "    return nums\n",
    "\n",
    "# Example usage:\n",
    "original_list = [35, 4, 6, 90, 2, 55, 13, 8]\n",
    "sorted_list = ascending_sort(original_list)\n",
    "print(sorted_list)"
   ]
  },
  {
   "cell_type": "code",
   "execution_count": 12,
   "metadata": {},
   "outputs": [
    {
     "name": "stdout",
     "output_type": "stream",
     "text": [
      "['fig', 'date', 'apple', 'banana', 'cherry']\n"
     ]
    }
   ],
   "source": [
    "#Example with Strings\n",
    "def shortestToLongestSorter(nums):\n",
    "    n = len(nums)\n",
    "    \n",
    "    for i in range(n):\n",
    "        # Flag to check if any swaps are made in the current pass\n",
    "        swapped = False\n",
    "        \n",
    "        for j in range(0, n-i-1):\n",
    "            if len(nums[j]) > len(nums[j+1]):\n",
    "                nums[j], nums[j+1] = nums[j+1], nums[j]\n",
    "                swapped = True\n",
    "        \n",
    "        # If no swaps are made in a pass, the list is already sorted\n",
    "        if not swapped:\n",
    "            break\n",
    "\n",
    "    return nums\n",
    "\n",
    "# Example usage:\n",
    "original_list = [\"apple\", \"banana\", \"cherry\", \"date\", \"fig\"]\n",
    "sorted_list = shortestToLongestSorter(original_list)\n",
    "print(sorted_list)"
   ]
  },
  {
   "cell_type": "code",
   "execution_count": 6,
   "metadata": {},
   "outputs": [
    {
     "name": "stdout",
     "output_type": "stream",
     "text": [
      "['Car', 4, 'trees', 'twenty', 11, 27]\n"
     ]
    }
   ],
   "source": [
    "#Example with Strings and Integers\n",
    "def mix_org(strings):\n",
    "    def get_length(string):\n",
    "        if isinstance(string, str):\n",
    "            return len(string)\n",
    "        elif isinstance(string, int):\n",
    "            return string\n",
    "        else:\n",
    "            return 0\n",
    "\n",
    "    sorted_strings = sorted(strings, key=get_length)\n",
    "    return sorted_strings\n",
    "\n",
    "input_list = [\"Car\", 4, 11, \"twenty\", 27, \"trees\"]\n",
    "sorted_list = mix_org(input_list)\n",
    "print(sorted_list)"
   ]
  }
 ],
 "metadata": {
  "kernelspec": {
   "display_name": "Python 3 (ipykernel)",
   "language": "python",
   "name": "python3"
  },
  "language_info": {
   "codemirror_mode": {
    "name": "ipython",
    "version": 3
   },
   "file_extension": ".py",
   "mimetype": "text/x-python",
   "name": "python",
   "nbconvert_exporter": "python",
   "pygments_lexer": "ipython3",
   "version": "3.10.12"
  }
 },
 "nbformat": 4,
 "nbformat_minor": 2
}
