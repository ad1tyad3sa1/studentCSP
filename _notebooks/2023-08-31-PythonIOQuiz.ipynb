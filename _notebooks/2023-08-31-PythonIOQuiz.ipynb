{
 "cells": [
  {
   "cell_type": "markdown",
   "metadata": {},
   "source": [
    "---\n",
    "comments: false\n",
    "layout: post\n",
    "title: PythonIO Quiz\n",
    "description: What I have accomplished after Week2\n",
    "type: hacks\n",
    "courses: { csp: {week: 1}}\n",
    "---\n",
    "\n",
    "Here is my basic python quiz application code:"
   ]
  },
  {
   "cell_type": "code",
   "execution_count": 1,
   "metadata": {},
   "outputs": [
    {
     "name": "stdout",
     "output_type": "stream",
     "text": [
      "Hello, adityadesai running /bin/python\n",
      "You will be asked 3 questions.\n",
      "Question: Are you ready to take a test?\n",
      "Question: What command is used to include other functions that were previously developed?\n",
      "import is correct!\n",
      "Question: What command is used to evaluate correct or incorrect response in this example?\n",
      "if is correct!\n",
      "Question: Each 'if' command contains an '_________' to determine a true or false condition?\n",
      "expression is correct!\n",
      "adityadesai you scored 3/3 (100.0%)\n",
      "You will be asked 3 questions.\n",
      "Question: Are you ready to take a test?\n"
     ]
    }
   ],
   "source": [
    "import getpass\n",
    "import sys\n",
    "\n",
    "def question_with_response(prompt):\n",
    "    print(\"Question: \" + prompt)\n",
    "    msg = input()\n",
    "    return msg\n",
    "\n",
    "questions = 3\n",
    "correct = 0\n",
    "\n",
    "print('Hello, ' + getpass.getuser() + \" running \" + sys.executable)\n",
    "\n",
    "# Added a while loop to enable iteration\n",
    "while True:\n",
    "    print(\"You will be asked \" + str(questions) + \" questions.\")\n",
    "    \n",
    "    # Moved the question_and_answer function inside the loop\n",
    "    question_and_answer = question_with_response(\"Are you ready to take a test?\")\n",
    "\n",
    "    # Check if the user wants to continue or quit\n",
    "    if question_and_answer.lower() != 'yes':\n",
    "        break  # Exit the loop if the user doesn't want to continue\n",
    "\n",
    "    rsp = question_with_response(\"What command is used to include other functions that were previously developed?\")\n",
    "    if rsp == \"import\":\n",
    "        print(rsp + \" is correct!\")\n",
    "        correct += 1\n",
    "    else:\n",
    "        print(rsp + \" is incorrect!\")\n",
    "\n",
    "    rsp = question_with_response(\"What command is used to evaluate correct or incorrect response in this example?\")\n",
    "    if rsp == \"if\":\n",
    "        print(rsp + \" is correct!\")\n",
    "        correct += 1\n",
    "    else:\n",
    "        print(rsp + \" is incorrect!\")\n",
    "\n",
    "    rsp = question_with_response(\"Each 'if' command contains an '_________' to determine a true or false condition?\")\n",
    "    if rsp == \"expression\":\n",
    "        print(rsp + \" is correct!\")\n",
    "        correct += 1\n",
    "    else:\n",
    "        print(rsp + \" is incorrect!\")\n",
    "\n",
    "    percentage = (correct / questions) * 100\n",
    "    print(getpass.getuser() + \" you scored \" + str(correct) + \"/\" + str(questions) + \" (\" + str(percentage) + \"%)\")\n",
    "    correct = 0  # Reset the score for the next round\n"
   ]
  }
 ],
 "metadata": {
  "kernelspec": {
   "display_name": "Python 3",
   "language": "python",
   "name": "python3"
  },
  "language_info": {
   "codemirror_mode": {
    "name": "ipython",
    "version": 3
   },
   "file_extension": ".py",
   "mimetype": "text/x-python",
   "name": "python",
   "nbconvert_exporter": "python",
   "pygments_lexer": "ipython3",
   "version": "3.10.12"
  },
  "orig_nbformat": 4
 },
 "nbformat": 4,
 "nbformat_minor": 2
}
