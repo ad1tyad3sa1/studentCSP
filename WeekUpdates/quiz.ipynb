{
 "cells": [
  {
   "cell_type": "code",
   "execution_count": 3,
   "metadata": {},
   "outputs": [
    {
     "name": "stdout",
     "output_type": "stream",
     "text": [
      "Hello! Welcome to the quiz.\n",
      "Question: What command is used to include other functions that were previously developed?\n",
      " is incorrect!\n",
      "Question: What command is used to evaluate correct or incorrect response in this example?\n",
      " is incorrect!\n",
      "Question: Each 'if' command contains an '_________' to determine a true or false condition?\n",
      " is incorrect!\n",
      "Your score: 0 out of 3\n"
     ]
    }
   ],
   "source": [
    "def question_with_response(prompt):\n",
    "    print(\"Question:\", prompt)\n",
    "    msg = input()\n",
    "    return msg\n",
    "\n",
    "def question_and_answer(prompt, answer):\n",
    "    print(\"Question:\", prompt)\n",
    "    msg = input()\n",
    "    if msg == answer:\n",
    "        print(msg, \"is correct!\")\n",
    "        return True\n",
    "    else:\n",
    "        print(msg, \"is incorrect!\")\n",
    "        return False\n",
    "\n",
    "questions = [\n",
    "    (\"What command is used to include other functions that were previously developed?\", \"import\"),\n",
    "    (\"What command is used to evaluate correct or incorrect response in this example?\", \"if\"),\n",
    "    (\"Each 'if' command contains an '_________' to determine a true or false condition?\", \"expression\")\n",
    "]\n",
    "\n",
    "correct = 0\n",
    "\n",
    "print(\"Hello! Welcome to the quiz.\")\n",
    "\n",
    "for question, answer in questions:\n",
    "    if question_and_answer(question, answer):\n",
    "        correct += 1\n",
    "\n",
    "num_questions = len(questions)\n",
    "print(\"Your score:\", correct, \"out of\", num_questions)\n"
   ]
  }
 ],
 "metadata": {
  "kernelspec": {
   "display_name": "Python 3",
   "language": "python",
   "name": "python3"
  },
  "language_info": {
   "codemirror_mode": {
    "name": "ipython",
    "version": 3
   },
   "file_extension": ".py",
   "mimetype": "text/x-python",
   "name": "python",
   "nbconvert_exporter": "python",
   "pygments_lexer": "ipython3",
   "version": "3.10.12"
  },
  "orig_nbformat": 4
 },
 "nbformat": 4,
 "nbformat_minor": 2
}
